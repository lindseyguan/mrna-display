{
 "cells": [
  {
   "cell_type": "markdown",
   "id": "0d29e87f",
   "metadata": {},
   "source": [
    "# Notebook for on-the-fly stability predictions"
   ]
  },
  {
   "cell_type": "markdown",
   "id": "04634e79",
   "metadata": {},
   "source": [
    "## Setup"
   ]
  },
  {
   "cell_type": "code",
   "execution_count": 8,
   "id": "54b9c1ac",
   "metadata": {},
   "outputs": [],
   "source": [
    "import os\n",
    "import time\n",
    "\n",
    "import numpy as np\n",
    "import pandas as pd\n",
    "\n",
    "import torch\n",
    "from torch import nn\n",
    "from torch.utils.data import DataLoader, ConcatDataset\n",
    "\n",
    "import sys\n",
    "sys.path.insert(0, './src')\n",
    "\n",
    "from mrna_dataset import MrnaDisplayDataset\n",
    "from mrna_classifier import MrnaBaggingPuClassifier\n",
    "\n",
    "from rdkit import Chem\n",
    "from rdkit.Chem.AtomPairs.Pairs import GetAtomPairFingerprintAsBitVect, GetAtomPairFingerprint\n",
    "from rdkit.Chem.rdmolfiles import MolFromSequence, MolFromSmiles\n",
    "\n",
    "MODEL_DIR = './src/models/prod/prod_0.01' # change to use different model\n",
    "model = MrnaBaggingPuClassifier(load_path=MODEL_DIR)\n",
    "\n",
    "DATA_DIR = './data/' # where ap_features.csv is located\n",
    "\n",
    "def get_ap(seq):\n",
    "    \"\"\"\n",
    "    Returns a pandas series of AP features.\n",
    "    Includes features from ap_features.csv (which are zero\n",
    "    if they don't exist in the molecule)\n",
    "    \"\"\"\n",
    "    rep = pd.Series(GetAtomPairFingerprint(MolFromSequence(seq)).GetNonzeroElements())\n",
    "    features = set(pd.read_csv(os.path.join(DATA_DIR, 'ap_features.csv'), dtype=np.int64, header=None).values.flatten())\n",
    "    existing = set(rep.index)\n",
    "    zero = list(features - existing)\n",
    "    rep = rep.loc[list(features & existing)]\n",
    "    for z in zero:\n",
    "        rep.at[z] = 0\n",
    "    return rep.loc[sorted(list(features))]\n",
    "\n",
    "\n",
    "def get_ap_smiles(smiles):\n",
    "    rep = pd.Series(GetAtomPairFingerprint(MolFromSmiles(smiles)).GetNonzeroElements())\n",
    "    features = set(pd.read_csv(os.path.join(DATA_DIR, 'ap_features.csv'), dtype=np.int64, header=None).values.flatten())\n",
    "    existing = set(rep.index)\n",
    "    zero = list(features - existing)\n",
    "    rep = rep.loc[list(features & existing)]\n",
    "    for z in zero:\n",
    "        rep.at[z] = 0\n",
    "    return rep.loc[sorted(list(features))]\n",
    "\n",
    "\n",
    "def predict(seq, smiles=False):\n",
    "    \"\"\"\n",
    "    Run prediction for a peptide sequence `seq`\n",
    "    \"\"\"\n",
    "    if smiles:\n",
    "        ft = get_ap_smiles(seq)\n",
    "    else:\n",
    "        ft = get_ap(seq)\n",
    "    x = torch.tensor(np.array([ft]), dtype=torch.float32)\n",
    "    pred = np.round(model.predict_proba(x).item(), 5)\n",
    "    return pred.item()"
   ]
  },
  {
   "cell_type": "markdown",
   "id": "d5b798ca",
   "metadata": {},
   "source": [
    "## Predict"
   ]
  },
  {
   "cell_type": "code",
   "execution_count": 13,
   "id": "22bd44f1",
   "metadata": {},
   "outputs": [
    {
     "data": {
      "text/plain": [
       "0.42641"
      ]
     },
     "execution_count": 13,
     "metadata": {},
     "output_type": "execute_result"
    }
   ],
   "source": [
    "peptide = 'PGWLSE'\n",
    "predict(peptide)"
   ]
  },
  {
   "cell_type": "code",
   "execution_count": 15,
   "id": "3d6cc5da",
   "metadata": {},
   "outputs": [
    {
     "data": {
      "text/plain": [
       "0.8605"
      ]
     },
     "execution_count": 15,
     "metadata": {},
     "output_type": "execute_result"
    }
   ],
   "source": [
    "peptide = 'PPPPPP'\n",
    "predict(peptide)"
   ]
  },
  {
   "cell_type": "code",
   "execution_count": 14,
   "id": "b2da6054",
   "metadata": {},
   "outputs": [
    {
     "data": {
      "text/plain": [
       "0.66503"
      ]
     },
     "execution_count": 14,
     "metadata": {},
     "output_type": "execute_result"
    }
   ],
   "source": [
    "# Example cyclic peptide: amide bond between N and C for sequence PGWLSE\n",
    "peptide_smiles = 'N31[C@@]([H])(CCC1)C(=O)NCC(=O)N[C@@]([H])(CC(=CN2)C1=C2C=CC=C1)C(=O)N[C@@]([H])(CC(C)C)C(=O)N[C@@]([H])(CO)C(=O)N[C@@]([H])(CCC(=O)O)C3(=O)'\n",
    "predict(peptide_smiles, smiles=True)"
   ]
  },
  {
   "cell_type": "code",
   "execution_count": null,
   "id": "0251c20f",
   "metadata": {},
   "outputs": [],
   "source": []
  }
 ],
 "metadata": {
  "kernelspec": {
   "display_name": "Python 3 (ipykernel)",
   "language": "python",
   "name": "python3"
  },
  "language_info": {
   "codemirror_mode": {
    "name": "ipython",
    "version": 3
   },
   "file_extension": ".py",
   "mimetype": "text/x-python",
   "name": "python",
   "nbconvert_exporter": "python",
   "pygments_lexer": "ipython3",
   "version": "3.9.13"
  }
 },
 "nbformat": 4,
 "nbformat_minor": 5
}
